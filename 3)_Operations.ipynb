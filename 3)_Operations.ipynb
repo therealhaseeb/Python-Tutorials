{
  "nbformat": 4,
  "nbformat_minor": 0,
  "metadata": {
    "colab": {
      "name": "3) Operations.ipynb",
      "provenance": [],
      "collapsed_sections": [],
      "authorship_tag": "ABX9TyNdreZwlYz+Xy8FVptTvG5X",
      "include_colab_link": true
    },
    "kernelspec": {
      "name": "python3",
      "display_name": "Python 3"
    },
    "language_info": {
      "name": "python"
    }
  },
  "cells": [
    {
      "cell_type": "markdown",
      "metadata": {
        "id": "view-in-github",
        "colab_type": "text"
      },
      "source": [
        "<a href=\"https://colab.research.google.com/github/therealhaseeb/Python-Tutorials/blob/main/3)_Operations.ipynb\" target=\"_parent\"><img src=\"https://colab.research.google.com/assets/colab-badge.svg\" alt=\"Open In Colab\"/></a>"
      ]
    },
    {
      "cell_type": "code",
      "metadata": {
        "id": "Xacw-DcQPCug"
      },
      "source": [
        "# Declaring the variable at the top first\n",
        "\n",
        "a = 3 # a is a variable name and 3 is an integer data type\n",
        "b = 2 # b is a variable name and 3 is an integer data type\n",
        "\n"
      ],
      "execution_count": 22,
      "outputs": []
    },
    {
      "cell_type": "code",
      "metadata": {
        "id": "aHRgQk7SPHeF"
      },
      "source": [
        "# Arithmetic operations and assigning the result to a variable\n",
        " # if you don't label your print with some string, you never know from where is  the result is coming\n",
        " "
      ],
      "execution_count": 23,
      "outputs": []
    },
    {
      "cell_type": "code",
      "metadata": {
        "colab": {
          "base_uri": "https://localhost:8080/"
        },
        "id": "aclN9q-1PYQ4",
        "outputId": "df828383-3f85-4b04-fb9c-a8b77e21473c"
      },
      "source": [
        "total = a + b\n",
        "print(total)"
      ],
      "execution_count": 24,
      "outputs": [
        {
          "output_type": "stream",
          "text": [
            "5\n"
          ],
          "name": "stdout"
        }
      ]
    },
    {
      "cell_type": "code",
      "metadata": {
        "colab": {
          "base_uri": "https://localhost:8080/"
        },
        "id": "VthmNbOaPLIa",
        "outputId": "031c2a96-d26c-4f41-90df-f96f07b141af"
      },
      "source": [
        "diff = a - b\n",
        "print(diff)"
      ],
      "execution_count": 25,
      "outputs": [
        {
          "output_type": "stream",
          "text": [
            "1\n"
          ],
          "name": "stdout"
        }
      ]
    },
    {
      "cell_type": "code",
      "metadata": {
        "colab": {
          "base_uri": "https://localhost:8080/"
        },
        "id": "TK2Z7xtwPL5k",
        "outputId": "9bd770dc-5c5e-44c0-e358-896e3a51b0fe"
      },
      "source": [
        "product = a * b\n",
        "print(product)"
      ],
      "execution_count": 26,
      "outputs": [
        {
          "output_type": "stream",
          "text": [
            "6\n"
          ],
          "name": "stdout"
        }
      ]
    },
    {
      "cell_type": "code",
      "metadata": {
        "colab": {
          "base_uri": "https://localhost:8080/"
        },
        "id": "tYJtLVULPM36",
        "outputId": "517dd308-1e98-49fe-bf96-8e1819b1c68b"
      },
      "source": [
        "division = a / b\n",
        "print(division)"
      ],
      "execution_count": 27,
      "outputs": [
        {
          "output_type": "stream",
          "text": [
            "1.5\n"
          ],
          "name": "stdout"
        }
      ]
    },
    {
      "cell_type": "code",
      "metadata": {
        "colab": {
          "base_uri": "https://localhost:8080/"
        },
        "id": "Js9um-5qPOBQ",
        "outputId": "4722ff23-7eab-43e3-dad2-a7131fe9d3ad"
      },
      "source": [
        "remainder = a % b\n",
        "print(remainder)"
      ],
      "execution_count": 28,
      "outputs": [
        {
          "output_type": "stream",
          "text": [
            "1\n"
          ],
          "name": "stdout"
        }
      ]
    },
    {
      "cell_type": "code",
      "metadata": {
        "colab": {
          "base_uri": "https://localhost:8080/"
        },
        "id": "qX1vGT9CPO2t",
        "outputId": "097b6089-b632-4197-ef16-e9107b7ca168"
      },
      "source": [
        "floor_division = a // b\n",
        "print(floor_division)"
      ],
      "execution_count": 29,
      "outputs": [
        {
          "output_type": "stream",
          "text": [
            "1\n"
          ],
          "name": "stdout"
        }
      ]
    },
    {
      "cell_type": "code",
      "metadata": {
        "colab": {
          "base_uri": "https://localhost:8080/"
        },
        "id": "-7QwMXhqPPpx",
        "outputId": "2355374c-54b2-45a7-ce8e-95326b30d224"
      },
      "source": [
        "exponential = a ** b\n",
        "print(exponential)"
      ],
      "execution_count": 30,
      "outputs": [
        {
          "output_type": "stream",
          "text": [
            "9\n"
          ],
          "name": "stdout"
        }
      ]
    },
    {
      "cell_type": "code",
      "metadata": {
        "id": "7dEBlGdIPJE-"
      },
      "source": [
        ""
      ],
      "execution_count": 30,
      "outputs": []
    },
    {
      "cell_type": "code",
      "metadata": {
        "id": "Yx4wdiktP3EZ"
      },
      "source": [
        "num_one = 3\n",
        "num_two = 4\n"
      ],
      "execution_count": 31,
      "outputs": []
    },
    {
      "cell_type": "code",
      "metadata": {
        "colab": {
          "base_uri": "https://localhost:8080/"
        },
        "id": "7wJIqgFYP4_O",
        "outputId": "c4250c67-a1ba-4f69-efa1-8e7e366244e9"
      },
      "source": [
        "# Arithmetic operations\n",
        "total = num_one + num_two\n",
        "print('total: ', total)\n"
      ],
      "execution_count": 32,
      "outputs": [
        {
          "output_type": "stream",
          "text": [
            "total:  7\n"
          ],
          "name": "stdout"
        }
      ]
    },
    {
      "cell_type": "code",
      "metadata": {
        "colab": {
          "base_uri": "https://localhost:8080/"
        },
        "id": "sV5nKBnIQAzD",
        "outputId": "ca039a8f-6a88-47e3-95f1-8a718fea083c"
      },
      "source": [
        "\n",
        "diff = num_two - num_one\n",
        "print('difference: ', diff)\n"
      ],
      "execution_count": 33,
      "outputs": [
        {
          "output_type": "stream",
          "text": [
            "difference:  1\n"
          ],
          "name": "stdout"
        }
      ]
    },
    {
      "cell_type": "code",
      "metadata": {
        "colab": {
          "base_uri": "https://localhost:8080/"
        },
        "id": "iWtcuyEUQBgW",
        "outputId": "e03f74ab-7c17-4d5d-b2e9-d9e99f9bfbc2"
      },
      "source": [
        "\n",
        "product = num_one * num_two\n",
        "print('product: ', product)\n"
      ],
      "execution_count": 34,
      "outputs": [
        {
          "output_type": "stream",
          "text": [
            "product:  12\n"
          ],
          "name": "stdout"
        }
      ]
    },
    {
      "cell_type": "code",
      "metadata": {
        "colab": {
          "base_uri": "https://localhost:8080/"
        },
        "id": "DpVd7_9JQCDM",
        "outputId": "4696830e-4741-440d-c2da-58a0a581eb61"
      },
      "source": [
        "\n",
        "div = num_two / num_two\n",
        "print('division: ', div)\n"
      ],
      "execution_count": 35,
      "outputs": [
        {
          "output_type": "stream",
          "text": [
            "division:  1.0\n"
          ],
          "name": "stdout"
        }
      ]
    },
    {
      "cell_type": "code",
      "metadata": {
        "colab": {
          "base_uri": "https://localhost:8080/"
        },
        "id": "9cAJnADYQCp_",
        "outputId": "3e9a114a-0a5e-47f2-f96d-c71049de1dc1"
      },
      "source": [
        "\n",
        "remainder = num_two % num_one\n",
        "print('remainder: ', remainder)\n"
      ],
      "execution_count": 36,
      "outputs": [
        {
          "output_type": "stream",
          "text": [
            "remainder:  1\n"
          ],
          "name": "stdout"
        }
      ]
    },
    {
      "cell_type": "code",
      "metadata": {
        "colab": {
          "base_uri": "https://localhost:8080/"
        },
        "id": "HycKDtswQC3q",
        "outputId": "f442786a-e6e0-40b0-fa65-d550fba61f25"
      },
      "source": [
        "# Calculating area of a circle\n",
        "radius = 10                                 # radius of a circle\n",
        "area_of_circle = 3.14 * radius ** 2         # two * sign means exponent or power\n",
        "print('Area of a circle:', area_of_circle)\n"
      ],
      "execution_count": 37,
      "outputs": [
        {
          "output_type": "stream",
          "text": [
            "Area of a circle: 314.0\n"
          ],
          "name": "stdout"
        }
      ]
    },
    {
      "cell_type": "code",
      "metadata": {
        "colab": {
          "base_uri": "https://localhost:8080/"
        },
        "id": "FNcknFB-QFxL",
        "outputId": "c701da4b-c63b-4909-8699-a4a8d0946635"
      },
      "source": [
        "# Calculating area of a rectangle\n",
        "length = 10\n",
        "width = 20\n",
        "area_of_rectangle = length * width\n",
        "print('Area of rectangle:', area_of_rectangle)\n"
      ],
      "execution_count": 38,
      "outputs": [
        {
          "output_type": "stream",
          "text": [
            "Area of rectangle: 200\n"
          ],
          "name": "stdout"
        }
      ]
    },
    {
      "cell_type": "code",
      "metadata": {
        "colab": {
          "base_uri": "https://localhost:8080/"
        },
        "id": "gSOT2E31QHK1",
        "outputId": "1b065801-8f34-4c66-984c-9d89d8f4eb72"
      },
      "source": [
        "# Calculating a weight of an object\n",
        "mass = 75\n",
        "gravity = 9.81\n",
        "weight = mass * gravity\n",
        "print(weight, 'N')\n"
      ],
      "execution_count": 39,
      "outputs": [
        {
          "output_type": "stream",
          "text": [
            "735.75 N\n"
          ],
          "name": "stdout"
        }
      ]
    },
    {
      "cell_type": "code",
      "metadata": {
        "colab": {
          "base_uri": "https://localhost:8080/"
        },
        "id": "7ynZrxEVQIh1",
        "outputId": "9a55ad82-0103-4cbd-cfa8-f9f6686a6053"
      },
      "source": [
        "print(3 > 2)     # True, because 3 is greater than 2\n"
      ],
      "execution_count": 41,
      "outputs": [
        {
          "output_type": "stream",
          "text": [
            "True\n"
          ],
          "name": "stdout"
        }
      ]
    },
    {
      "cell_type": "code",
      "metadata": {
        "colab": {
          "base_uri": "https://localhost:8080/"
        },
        "id": "MOJlg1-YQNDt",
        "outputId": "b6b1b159-95d7-4575-a2c3-455620f3e191"
      },
      "source": [
        "print(3 >= 2)    # True, because 3 is greater than 2\n"
      ],
      "execution_count": 42,
      "outputs": [
        {
          "output_type": "stream",
          "text": [
            "True\n"
          ],
          "name": "stdout"
        }
      ]
    },
    {
      "cell_type": "code",
      "metadata": {
        "colab": {
          "base_uri": "https://localhost:8080/"
        },
        "id": "3-bWv-epQN3s",
        "outputId": "4acce44a-9336-4f8f-e5d6-dca3c9c33a31"
      },
      "source": [
        "print(3 < 2)     # False,  because 3 is greater than 2\n"
      ],
      "execution_count": 43,
      "outputs": [
        {
          "output_type": "stream",
          "text": [
            "False\n"
          ],
          "name": "stdout"
        }
      ]
    },
    {
      "cell_type": "code",
      "metadata": {
        "colab": {
          "base_uri": "https://localhost:8080/"
        },
        "id": "amumuaivQOrt",
        "outputId": "07554ce9-4d48-411d-9ee0-9c376ff7f02c"
      },
      "source": [
        "print(2 < 3)     # True, because 2 is less than 3\n"
      ],
      "execution_count": 44,
      "outputs": [
        {
          "output_type": "stream",
          "text": [
            "True\n"
          ],
          "name": "stdout"
        }
      ]
    },
    {
      "cell_type": "code",
      "metadata": {
        "colab": {
          "base_uri": "https://localhost:8080/"
        },
        "id": "27BRpnRGQP_F",
        "outputId": "e9a7c104-eb7d-4757-88b7-bb29eeb08733"
      },
      "source": [
        "print(2 <= 3)    # True, because 2 is less than 3\n"
      ],
      "execution_count": 45,
      "outputs": [
        {
          "output_type": "stream",
          "text": [
            "True\n"
          ],
          "name": "stdout"
        }
      ]
    },
    {
      "cell_type": "code",
      "metadata": {
        "colab": {
          "base_uri": "https://localhost:8080/"
        },
        "id": "AhAlnthlQQts",
        "outputId": "77b5351e-93e2-4be7-898c-35dfc1160724"
      },
      "source": [
        "print(3 == 2)    # False, because 3 is not equal to 2\n"
      ],
      "execution_count": 46,
      "outputs": [
        {
          "output_type": "stream",
          "text": [
            "False\n"
          ],
          "name": "stdout"
        }
      ]
    },
    {
      "cell_type": "code",
      "metadata": {
        "colab": {
          "base_uri": "https://localhost:8080/"
        },
        "id": "iADCxES4QRdF",
        "outputId": "f52e95cf-5ce1-4c6d-e861-aa705a4d37c5"
      },
      "source": [
        "print(3 != 2)    # True, because 3 is not equal to 2\n"
      ],
      "execution_count": 47,
      "outputs": [
        {
          "output_type": "stream",
          "text": [
            "True\n"
          ],
          "name": "stdout"
        }
      ]
    },
    {
      "cell_type": "code",
      "metadata": {
        "colab": {
          "base_uri": "https://localhost:8080/"
        },
        "id": "8hgS6p59QSPg",
        "outputId": "c4eabae1-5ea7-42da-9f20-899cd8167cce"
      },
      "source": [
        "print(len('mango') == len('avocado'))  # False\n"
      ],
      "execution_count": 48,
      "outputs": [
        {
          "output_type": "stream",
          "text": [
            "False\n"
          ],
          "name": "stdout"
        }
      ]
    },
    {
      "cell_type": "code",
      "metadata": {
        "colab": {
          "base_uri": "https://localhost:8080/"
        },
        "id": "muIbRBuXQTjW",
        "outputId": "e05d30ab-c653-40cb-d4eb-579e5f12877b"
      },
      "source": [
        "print(len('mango') != len('avocado'))  # True\n"
      ],
      "execution_count": 49,
      "outputs": [
        {
          "output_type": "stream",
          "text": [
            "True\n"
          ],
          "name": "stdout"
        }
      ]
    },
    {
      "cell_type": "code",
      "metadata": {
        "colab": {
          "base_uri": "https://localhost:8080/"
        },
        "id": "aedbKGjrQUSy",
        "outputId": "4d3e7419-f8be-4c9c-9c0d-7c7fc018ce98"
      },
      "source": [
        "print(len('mango') < len('avocado'))   # True\n"
      ],
      "execution_count": 50,
      "outputs": [
        {
          "output_type": "stream",
          "text": [
            "True\n"
          ],
          "name": "stdout"
        }
      ]
    },
    {
      "cell_type": "code",
      "metadata": {
        "colab": {
          "base_uri": "https://localhost:8080/"
        },
        "id": "QpBJFA8tQVCC",
        "outputId": "72f5c83d-c316-4564-d5db-2c34222a5bc7"
      },
      "source": [
        "print(len('milk') != len('meat'))      # False\n"
      ],
      "execution_count": 51,
      "outputs": [
        {
          "output_type": "stream",
          "text": [
            "False\n"
          ],
          "name": "stdout"
        }
      ]
    },
    {
      "cell_type": "code",
      "metadata": {
        "colab": {
          "base_uri": "https://localhost:8080/"
        },
        "id": "HUka6elxQV8m",
        "outputId": "afb71b10-91ce-4026-f112-111d1446ce50"
      },
      "source": [
        "print(len('milk') == len('meat'))      # True\n"
      ],
      "execution_count": 52,
      "outputs": [
        {
          "output_type": "stream",
          "text": [
            "True\n"
          ],
          "name": "stdout"
        }
      ]
    },
    {
      "cell_type": "code",
      "metadata": {
        "colab": {
          "base_uri": "https://localhost:8080/"
        },
        "id": "3jaMe6eBQW46",
        "outputId": "debbb832-b13a-418c-b927-7ababec32a01"
      },
      "source": [
        "print(len('tomato') == len('potato'))  # True\n"
      ],
      "execution_count": 53,
      "outputs": [
        {
          "output_type": "stream",
          "text": [
            "True\n"
          ],
          "name": "stdout"
        }
      ]
    },
    {
      "cell_type": "code",
      "metadata": {
        "colab": {
          "base_uri": "https://localhost:8080/"
        },
        "id": "b3kmnz3nQXqj",
        "outputId": "1d703280-3cd2-41f4-dfd2-7ada5c54596d"
      },
      "source": [
        "print(len('python') > len('dragon'))   # False\n"
      ],
      "execution_count": 54,
      "outputs": [
        {
          "output_type": "stream",
          "text": [
            "False\n"
          ],
          "name": "stdout"
        }
      ]
    },
    {
      "cell_type": "code",
      "metadata": {
        "colab": {
          "base_uri": "https://localhost:8080/"
        },
        "id": "5x_B9T2sQX76",
        "outputId": "be1dc709-f185-4110-964a-07581577ea21"
      },
      "source": [
        "# Boolean comparison\n",
        "print('True == True: ', True == True)\n"
      ],
      "execution_count": 55,
      "outputs": [
        {
          "output_type": "stream",
          "text": [
            "True == True:  True\n"
          ],
          "name": "stdout"
        }
      ]
    },
    {
      "cell_type": "code",
      "metadata": {
        "colab": {
          "base_uri": "https://localhost:8080/"
        },
        "id": "qJJPstJGQbT_",
        "outputId": "76b8efd1-59b0-496d-9a79-e04f1becb14c"
      },
      "source": [
        "print('True == False: ', True == False)\n"
      ],
      "execution_count": 56,
      "outputs": [
        {
          "output_type": "stream",
          "text": [
            "True == False:  False\n"
          ],
          "name": "stdout"
        }
      ]
    },
    {
      "cell_type": "code",
      "metadata": {
        "colab": {
          "base_uri": "https://localhost:8080/"
        },
        "id": "cqExBWlwQcAI",
        "outputId": "2dbf8d82-f601-483f-d294-a890fade7aa0"
      },
      "source": [
        "print('False == False:', False == False)\n"
      ],
      "execution_count": 57,
      "outputs": [
        {
          "output_type": "stream",
          "text": [
            "False == False: True\n"
          ],
          "name": "stdout"
        }
      ]
    },
    {
      "cell_type": "code",
      "metadata": {
        "colab": {
          "base_uri": "https://localhost:8080/"
        },
        "id": "Ydk1IYEqQc1i",
        "outputId": "a248dd8d-7eb8-440a-e62f-8f25a03ca521"
      },
      "source": [
        "print('True and True: ', True and True)\n"
      ],
      "execution_count": 58,
      "outputs": [
        {
          "output_type": "stream",
          "text": [
            "True and True:  True\n"
          ],
          "name": "stdout"
        }
      ]
    },
    {
      "cell_type": "code",
      "metadata": {
        "colab": {
          "base_uri": "https://localhost:8080/"
        },
        "id": "SQo68ZUtQdgK",
        "outputId": "2a721267-677c-44ad-e55a-9f99cd3e814a"
      },
      "source": [
        "print('True or False:', True or False)\n"
      ],
      "execution_count": 59,
      "outputs": [
        {
          "output_type": "stream",
          "text": [
            "True or False: True\n"
          ],
          "name": "stdout"
        }
      ]
    },
    {
      "cell_type": "code",
      "metadata": {
        "id": "V6ZJGDprQdrT"
      },
      "source": [
        ""
      ],
      "execution_count": null,
      "outputs": []
    },
    {
      "cell_type": "code",
      "metadata": {
        "id": "AMHw6GH0QLum"
      },
      "source": [
        ""
      ],
      "execution_count": null,
      "outputs": []
    },
    {
      "cell_type": "code",
      "metadata": {
        "id": "yQjuucnUP3Bo"
      },
      "source": [
        ""
      ],
      "execution_count": null,
      "outputs": []
    },
    {
      "cell_type": "code",
      "metadata": {
        "id": "62mz785aP245"
      },
      "source": [
        ""
      ],
      "execution_count": null,
      "outputs": []
    }
  ]
}