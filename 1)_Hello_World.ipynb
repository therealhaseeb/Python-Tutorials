{
  "nbformat": 4,
  "nbformat_minor": 0,
  "metadata": {
    "colab": {
      "name": "1) Hello World.ipynb",
      "provenance": [],
      "collapsed_sections": [],
      "authorship_tag": "ABX9TyPvkkq0r48uM2Rm4iqSJUZw",
      "include_colab_link": true
    },
    "kernelspec": {
      "name": "python3",
      "display_name": "Python 3"
    },
    "language_info": {
      "name": "python"
    }
  },
  "cells": [
    {
      "cell_type": "markdown",
      "metadata": {
        "id": "view-in-github",
        "colab_type": "text"
      },
      "source": [
        "<a href=\"https://colab.research.google.com/github/therealhaseeb/Python-Tutorials/blob/main/1)_Hello_World.ipynb\" target=\"_parent\"><img src=\"https://colab.research.google.com/assets/colab-badge.svg\" alt=\"Open In Colab\"/></a>"
      ]
    },
    {
      "cell_type": "code",
      "metadata": {
        "colab": {
          "base_uri": "https://localhost:8080/"
        },
        "id": "Q2Rv8585NoOU",
        "outputId": "3c57ce1b-68b4-4778-8ff3-e0ddd23f6fdb"
      },
      "source": [
        "print('Hello World')"
      ],
      "execution_count": 1,
      "outputs": [
        {
          "output_type": "stream",
          "text": [
            "Hello World\n"
          ],
          "name": "stdout"
        }
      ]
    },
    {
      "cell_type": "code",
      "metadata": {
        "colab": {
          "base_uri": "https://localhost:8080/"
        },
        "id": "zzKi_BBfNxSJ",
        "outputId": "46813f4a-9730-4b11-edc0-8648a6d379f7"
      },
      "source": [
        "print(2 + 3)   # addition(+)\n"
      ],
      "execution_count": 2,
      "outputs": [
        {
          "output_type": "stream",
          "text": [
            "5\n"
          ],
          "name": "stdout"
        }
      ]
    },
    {
      "cell_type": "code",
      "metadata": {
        "colab": {
          "base_uri": "https://localhost:8080/"
        },
        "id": "IgdoZZM-Nzyr",
        "outputId": "a1a4766d-cba9-4cff-a248-22746b230b11"
      },
      "source": [
        "print(3 - 1)   # subtraction(-)\n"
      ],
      "execution_count": 3,
      "outputs": [
        {
          "output_type": "stream",
          "text": [
            "2\n"
          ],
          "name": "stdout"
        }
      ]
    },
    {
      "cell_type": "code",
      "metadata": {
        "colab": {
          "base_uri": "https://localhost:8080/"
        },
        "id": "wjDhkEkUN1PU",
        "outputId": "08e1aa27-fc32-4257-8f8c-97dd4dd42f00"
      },
      "source": [
        "print(2 * 3)   # multiplication(*)\n"
      ],
      "execution_count": 4,
      "outputs": [
        {
          "output_type": "stream",
          "text": [
            "6\n"
          ],
          "name": "stdout"
        }
      ]
    },
    {
      "cell_type": "code",
      "metadata": {
        "colab": {
          "base_uri": "https://localhost:8080/"
        },
        "id": "tBg09rUJN2XO",
        "outputId": "de0d530a-f78b-41b8-ce1b-f117e24b2192"
      },
      "source": [
        "print(3 / 2)   # division(/)\n"
      ],
      "execution_count": 5,
      "outputs": [
        {
          "output_type": "stream",
          "text": [
            "1.5\n"
          ],
          "name": "stdout"
        }
      ]
    },
    {
      "cell_type": "code",
      "metadata": {
        "colab": {
          "base_uri": "https://localhost:8080/"
        },
        "id": "IEXBB3SZN3iz",
        "outputId": "1761af13-71ad-46ad-b17a-1fce282bce8d"
      },
      "source": [
        "print(3 ** 2)  # exponential(**)\n"
      ],
      "execution_count": 6,
      "outputs": [
        {
          "output_type": "stream",
          "text": [
            "9\n"
          ],
          "name": "stdout"
        }
      ]
    },
    {
      "cell_type": "code",
      "metadata": {
        "colab": {
          "base_uri": "https://localhost:8080/"
        },
        "id": "qgPnOqboN4l8",
        "outputId": "11d61856-b5d8-43a9-b7d9-0b572e047c03"
      },
      "source": [
        "print(3 % 2)   # modulus(%)\n"
      ],
      "execution_count": 7,
      "outputs": [
        {
          "output_type": "stream",
          "text": [
            "1\n"
          ],
          "name": "stdout"
        }
      ]
    },
    {
      "cell_type": "code",
      "metadata": {
        "colab": {
          "base_uri": "https://localhost:8080/"
        },
        "id": "P6WfviUrN8da",
        "outputId": "52069e28-9964-42bf-e51a-f58ed9a49f02"
      },
      "source": [
        "print(3 // 2)  # Floor division operator(//)\n"
      ],
      "execution_count": 9,
      "outputs": [
        {
          "output_type": "stream",
          "text": [
            "1\n"
          ],
          "name": "stdout"
        }
      ]
    },
    {
      "cell_type": "code",
      "metadata": {
        "colab": {
          "base_uri": "https://localhost:8080/"
        },
        "id": "vkEQOUoIN68r",
        "outputId": "0e3542d7-598d-4d29-a719-7ba9c91a34ef"
      },
      "source": [
        "# Checking data types\n",
        "\n",
        "print(type(10))                  # Int\n"
      ],
      "execution_count": 8,
      "outputs": [
        {
          "output_type": "stream",
          "text": [
            "<class 'int'>\n"
          ],
          "name": "stdout"
        }
      ]
    },
    {
      "cell_type": "code",
      "metadata": {
        "colab": {
          "base_uri": "https://localhost:8080/"
        },
        "id": "r3zSZ5NvN7Um",
        "outputId": "2575253d-e126-47d7-b8aa-025de76f47db"
      },
      "source": [
        "print(type(3.14))                # Float\n"
      ],
      "execution_count": 10,
      "outputs": [
        {
          "output_type": "stream",
          "text": [
            "<class 'float'>\n"
          ],
          "name": "stdout"
        }
      ]
    },
    {
      "cell_type": "code",
      "metadata": {
        "colab": {
          "base_uri": "https://localhost:8080/"
        },
        "id": "7qaOJpuRN93r",
        "outputId": "e9e85493-6bb8-45ae-e9b5-e0d73cfeb219"
      },
      "source": [
        "print(type(1 + 3j))              # Complex\n"
      ],
      "execution_count": 11,
      "outputs": [
        {
          "output_type": "stream",
          "text": [
            "<class 'complex'>\n"
          ],
          "name": "stdout"
        }
      ]
    },
    {
      "cell_type": "code",
      "metadata": {
        "colab": {
          "base_uri": "https://localhost:8080/"
        },
        "id": "7STpefQDN-uk",
        "outputId": "d7bade5e-1ddc-4b7c-a947-06b4f0bec7c8"
      },
      "source": [
        "print(type('Asabeneh'))          # String\n"
      ],
      "execution_count": 12,
      "outputs": [
        {
          "output_type": "stream",
          "text": [
            "<class 'str'>\n"
          ],
          "name": "stdout"
        }
      ]
    },
    {
      "cell_type": "code",
      "metadata": {
        "colab": {
          "base_uri": "https://localhost:8080/"
        },
        "id": "BNANZkkrN_n0",
        "outputId": "4bff1db8-fe15-4156-dea4-44c3df872996"
      },
      "source": [
        "print(type([1, 2, 3]))           # List\n"
      ],
      "execution_count": 13,
      "outputs": [
        {
          "output_type": "stream",
          "text": [
            "<class 'list'>\n"
          ],
          "name": "stdout"
        }
      ]
    },
    {
      "cell_type": "code",
      "metadata": {
        "colab": {
          "base_uri": "https://localhost:8080/"
        },
        "id": "q5wPrOR5OAvJ",
        "outputId": "d4120e8f-ad40-44ce-de47-c7a70f364307"
      },
      "source": [
        "print(type({'name':'Asabeneh'})) # Dictionary\n"
      ],
      "execution_count": 14,
      "outputs": [
        {
          "output_type": "stream",
          "text": [
            "<class 'dict'>\n"
          ],
          "name": "stdout"
        }
      ]
    },
    {
      "cell_type": "code",
      "metadata": {
        "colab": {
          "base_uri": "https://localhost:8080/"
        },
        "id": "CC2yAs66N5jL",
        "outputId": "2c01cc6c-5ae1-4705-fffe-1775ee0af0c9"
      },
      "source": [
        "print(type({9.8, 3.14, 2.7}))    # Tuple\n"
      ],
      "execution_count": 15,
      "outputs": [
        {
          "output_type": "stream",
          "text": [
            "<class 'set'>\n"
          ],
          "name": "stdout"
        }
      ]
    }
  ]
}